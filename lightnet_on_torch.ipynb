{
  "nbformat": 4,
  "nbformat_minor": 0,
  "metadata": {
    "colab": {
      "provenance": [],
      "gpuType": "T4",
      "authorship_tag": "ABX9TyOvvXM4LTcnQGwzkUY9GtFw",
      "include_colab_link": true
    },
    "kernelspec": {
      "name": "python3",
      "display_name": "Python 3"
    },
    "language_info": {
      "name": "python"
    },
    "accelerator": "GPU"
  },
  "cells": [
    {
      "cell_type": "markdown",
      "metadata": {
        "id": "view-in-github",
        "colab_type": "text"
      },
      "source": [
        "<a href=\"https://colab.research.google.com/github/arifinnasif/Natural-Hazard-Prediction/blob/master/lightnet_on_torch.ipynb\" target=\"_parent\"><img src=\"https://colab.research.google.com/assets/colab-badge.svg\" alt=\"Open In Colab\"/></a>"
      ]
    },
    {
      "cell_type": "code",
      "execution_count": 1,
      "metadata": {
        "id": "_SWR8nHpq5Fo"
      },
      "outputs": [],
      "source": [
        "import torch.nn as nn\n",
        "import torch\n",
        "import random\n",
        "import numpy as np\n",
        "import matplotlib.pyplot as plt\n",
        "import matplotlib.ticker as mticker\n",
        "from tqdm import tqdm"
      ]
    },
    {
      "cell_type": "code",
      "source": [
        "from google.colab import drive\n",
        "import os\n",
        "\n",
        "drive.mount(\"/content/drive\", force_remount=True)\n",
        "os.chdir(os.path.join(\"/content\", \"drive\", \"MyDrive\", \"Datasets\", \"GLM\"))"
      ],
      "metadata": {
        "colab": {
          "base_uri": "https://localhost:8080/"
        },
        "id": "oxoPTP2jGHGY",
        "outputId": "de25b545-2003-4a2f-e642-574195daa624"
      },
      "execution_count": 2,
      "outputs": [
        {
          "output_type": "stream",
          "name": "stdout",
          "text": [
            "Mounted at /content/drive\n"
          ]
        }
      ]
    },
    {
      "cell_type": "markdown",
      "source": [
        "## ConvLSTM"
      ],
      "metadata": {
        "id": "Xm_46cmzrJIL"
      }
    },
    {
      "cell_type": "code",
      "source": [
        "class ConvLSTMCell(nn.Module):\n",
        "\n",
        "    def __init__(self, input_dim, hidden_dim, kernel_size, bias):\n",
        "        \"\"\"\n",
        "        Initialize ConvLSTM cell.\n",
        "\n",
        "        Parameters\n",
        "        ----------\n",
        "        input_dim: int\n",
        "            Number of channels of input tensor.\n",
        "        hidden_dim: int\n",
        "            Number of channels of hidden state.\n",
        "        kernel_size: (int, int)\n",
        "            Size of the convolutional kernel.\n",
        "        bias: bool\n",
        "            Whether or not to add the bias.\n",
        "        \"\"\"\n",
        "\n",
        "        super(ConvLSTMCell, self).__init__()\n",
        "\n",
        "        self.input_dim = input_dim\n",
        "        self.hidden_dim = hidden_dim\n",
        "\n",
        "        self.kernel_size = kernel_size\n",
        "        self.padding = kernel_size[0] // 2, kernel_size[1] // 2\n",
        "        self.bias = bias\n",
        "\n",
        "        self.conv = nn.Conv2d(in_channels=self.input_dim + self.hidden_dim,\n",
        "                              out_channels=4 * self.hidden_dim,\n",
        "                              kernel_size=self.kernel_size,\n",
        "                              padding=self.padding,\n",
        "                              bias=self.bias)\n",
        "\n",
        "    def forward(self, input_tensor, cur_state):\n",
        "        h_cur, c_cur = cur_state\n",
        "\n",
        "        combined = torch.cat([input_tensor, h_cur], dim=1)  # concatenate along channel axis\n",
        "        # print(\"size of h_cur\", h_cur.size())\n",
        "        # print(\"size of combined\", combined.size())\n",
        "\n",
        "        combined_conv = self.conv(combined)\n",
        "        cc_i, cc_f, cc_o, cc_g = torch.split(combined_conv, self.hidden_dim, dim=1)\n",
        "        i = torch.sigmoid(cc_i)\n",
        "        f = torch.sigmoid(cc_f)\n",
        "        o = torch.sigmoid(cc_o)\n",
        "        g = torch.tanh(cc_g)\n",
        "\n",
        "        c_next = f * c_cur + i * g\n",
        "        h_next = o * torch.tanh(c_next)\n",
        "\n",
        "        return h_next, c_next\n",
        "\n",
        "    def init_hidden(self, batch_size, image_size):\n",
        "        height, width = image_size\n",
        "        return (torch.zeros(batch_size, self.hidden_dim, height, width, device=self.conv.weight.device),\n",
        "                torch.zeros(batch_size, self.hidden_dim, height, width, device=self.conv.weight.device))\n",
        "\n",
        "\n",
        "class ConvLSTM(nn.Module):\n",
        "\n",
        "    \"\"\"\n",
        "\n",
        "    Parameters:\n",
        "        input_dim: Number of channels in input\n",
        "        hidden_dim: Number of hidden channels\n",
        "        kernel_size: Size of kernel in convolutions\n",
        "        num_layers: Number of LSTM layers stacked on each other\n",
        "        batch_first: Whether or not dimension 0 is the batch or not\n",
        "        bias: Bias or no bias in Convolution\n",
        "        return_all_layers: Return the list of computations for all layers\n",
        "        Note: Will do same padding.\n",
        "\n",
        "    Input:\n",
        "        A tensor of size B, T, C, H, W or T, B, C, H, W\n",
        "    Output:\n",
        "        A tuple of two lists of length num_layers (or length 1 if return_all_layers is False).\n",
        "            0 - layer_output_list is the list of lists of length T of each output\n",
        "            1 - last_state_list is the list of last states\n",
        "                    each element of the list is a tuple (h, c) for hidden state and memory\n",
        "    Example:\n",
        "        >> x = torch.rand((32, 10, 64, 128, 128))\n",
        "        >> convlstm = ConvLSTM(64, 16, 3, 1, True, True, False)\n",
        "        >> _, last_states = convlstm(x)\n",
        "        >> h = last_states[0][0]  # 0 for layer index, 0 for h index\n",
        "    \"\"\"\n",
        "\n",
        "    def __init__(self, input_dim, hidden_dim, kernel_size, num_layers,\n",
        "                 batch_first=False, bias=True, return_all_layers=False):\n",
        "        super(ConvLSTM, self).__init__()\n",
        "\n",
        "        self._check_kernel_size_consistency(kernel_size)\n",
        "\n",
        "        # Make sure that both `kernel_size` and `hidden_dim` are lists having len == num_layers\n",
        "        kernel_size = self._extend_for_multilayer(kernel_size, num_layers)\n",
        "        hidden_dim = self._extend_for_multilayer(hidden_dim, num_layers)\n",
        "        if not len(kernel_size) == len(hidden_dim) == num_layers:\n",
        "            raise ValueError('Inconsistent list length.')\n",
        "\n",
        "        self.input_dim = input_dim\n",
        "        self.hidden_dim = hidden_dim\n",
        "        self.kernel_size = kernel_size\n",
        "        self.num_layers = num_layers\n",
        "        self.batch_first = batch_first\n",
        "        self.bias = bias\n",
        "        self.return_all_layers = return_all_layers\n",
        "\n",
        "        cell_list = []\n",
        "        for i in range(0, self.num_layers):\n",
        "            cur_input_dim = self.input_dim if i == 0 else self.hidden_dim[i - 1]\n",
        "\n",
        "            cell_list.append(ConvLSTMCell(input_dim=cur_input_dim,\n",
        "                                          hidden_dim=self.hidden_dim[i],\n",
        "                                          kernel_size=self.kernel_size[i],\n",
        "                                          bias=self.bias))\n",
        "\n",
        "        self.cell_list = nn.ModuleList(cell_list)\n",
        "\n",
        "    def forward(self, input_tensor, hidden_state=None):\n",
        "        \"\"\"\n",
        "\n",
        "        Parameters\n",
        "        ----------\n",
        "        input_tensor: todo\n",
        "            5-D Tensor either of shape (t, b, c, h, w) or (b, t, c, h, w)\n",
        "        hidden_state: todo\n",
        "            None. todo implement stateful\n",
        "\n",
        "        Returns\n",
        "        -------\n",
        "        last_state_list, layer_output\n",
        "        \"\"\"\n",
        "        if not self.batch_first:\n",
        "            # (t, b, c, h, w) -> (b, t, c, h, w)\n",
        "            input_tensor = input_tensor.permute(1, 0, 2, 3, 4)\n",
        "\n",
        "        b, _, _, h, w = input_tensor.size()\n",
        "\n",
        "        # Implement stateful ConvLSTM\n",
        "        if hidden_state is not None:\n",
        "            raise NotImplementedError()\n",
        "        else:\n",
        "            # Since the init is done in forward. Can send image size here\n",
        "            hidden_state = self._init_hidden(batch_size=b,\n",
        "                                             image_size=(h, w))\n",
        "\n",
        "        layer_output_list = []\n",
        "        last_state_list = []\n",
        "\n",
        "        seq_len = input_tensor.size(1)\n",
        "        cur_layer_input = input_tensor\n",
        "\n",
        "        for layer_idx in range(self.num_layers):\n",
        "\n",
        "            h, c = hidden_state[layer_idx]\n",
        "            output_inner = []\n",
        "            for t in range(seq_len):\n",
        "                h, c = self.cell_list[layer_idx](input_tensor=cur_layer_input[:, t, :, :, :],\n",
        "                                                 cur_state=[h, c])\n",
        "                output_inner.append(h)\n",
        "\n",
        "            layer_output = torch.stack(output_inner, dim=1)\n",
        "            cur_layer_input = layer_output\n",
        "\n",
        "            layer_output_list.append(layer_output)\n",
        "            last_state_list.append([h, c])\n",
        "\n",
        "        if not self.return_all_layers:\n",
        "            layer_output_list = layer_output_list[-1:]\n",
        "            last_state_list = last_state_list[-1:]\n",
        "\n",
        "        return layer_output_list, last_state_list\n",
        "\n",
        "    def _init_hidden(self, batch_size, image_size):\n",
        "        init_states = []\n",
        "        for i in range(self.num_layers):\n",
        "            init_states.append(self.cell_list[i].init_hidden(batch_size, image_size))\n",
        "        return init_states\n",
        "\n",
        "    @staticmethod\n",
        "    def _check_kernel_size_consistency(kernel_size):\n",
        "        if not (isinstance(kernel_size, tuple) or\n",
        "                (isinstance(kernel_size, list) and all([isinstance(elem, tuple) for elem in kernel_size]))):\n",
        "            raise ValueError('`kernel_size` must be tuple or list of tuples')\n",
        "\n",
        "    @staticmethod\n",
        "    def _extend_for_multilayer(param, num_layers):\n",
        "        if not isinstance(param, list):\n",
        "            param = [param] * num_layers\n",
        "        return param"
      ],
      "metadata": {
        "id": "3XtLk06nrU6E"
      },
      "execution_count": 3,
      "outputs": []
    },
    {
      "cell_type": "code",
      "source": [
        "# conv_lstm = ConvLSTM(1,[8],[(5,5)],1, batch_first=True) # 1 channel, 8 hidden channel (from geng), 5x5 kernel, 1 layer(?), batch first -> batch er size input tensor e first e dicci,\n",
        "# x = torch.rand((32, 6, 1, 25, 25)) # 32 samples in a batch (batch first), prev 6 hours, 1 channel, 25x25 grid\n",
        "# # convlstm = ConvLSTM(64, 16, 3, 1, True, True, False)\n",
        "# _, last_states = conv_lstm(x)\n",
        "# h,c = last_states[0]  # 0 for layer index, 0 for h index\n",
        "# print(last_states[0][1].size())\n",
        "# print(\"-----\")\n",
        "# print(h.size())\n"
      ],
      "metadata": {
        "id": "PEs46RzotKtQ"
      },
      "execution_count": 4,
      "outputs": []
    },
    {
      "cell_type": "code",
      "source": [
        "# x_ = torch.rand((32, 6, 50, 50))\n",
        "# conv_ = nn.Conv2d(in_channels = 6, out_channels = 6*4, kernel_size = 5, groups = 6, stride = 2, padding = 2)\n",
        "# # conv_.weight.data = [None, None, ...].repeat(64, 1, 1, 1)\n",
        "# # print(conv_.weight.data.size())\n",
        "# conv_(x_).size()"
      ],
      "metadata": {
        "id": "FVIzhbxjO91w"
      },
      "execution_count": 5,
      "outputs": []
    },
    {
      "cell_type": "code",
      "source": [
        "class Encoder_old(nn.Module):\n",
        "  def __init__(self):\n",
        "    super(Encoder_old, self).__init__()\n",
        "    self.prev_hours = 6\n",
        "    self.conv_2 = nn.Conv2d(in_channels = self.prev_hours,\n",
        "                          out_channels = self.prev_hours*4, # each input frame gets mapped to 4 layer\n",
        "                          groups = self.prev_hours,\n",
        "                          kernel_size = 7,\n",
        "                          stride = 2,\n",
        "                          padding = 3)\n",
        "    self.conv_lstm = ConvLSTM(input_dim = 4,\n",
        "                               hidden_dim = [8],\n",
        "                               kernel_size = [(5,5)],\n",
        "                               num_layers = 1,\n",
        "                               batch_first=True)\n",
        "    # print(self.conv_2.weight.data.size())\n",
        "\n",
        "  def forward(self, input_tensor):\n",
        "    x = self.conv_2(input_tensor.flatten(1,2))\n",
        "    _, last_states = self.conv_lstm(torch.unflatten(x, dim = 1, sizes = (6, 4)))\n",
        "    h,c = last_states[0]\n",
        "\n",
        "    return h,c\n",
        "\n",
        "\n",
        "\n"
      ],
      "metadata": {
        "id": "doNfUNdkAcQU"
      },
      "execution_count": 6,
      "outputs": []
    },
    {
      "cell_type": "code",
      "source": [
        "class Encoder(nn.Module):\n",
        "  def __init__(self, in_channels_for_a_given_time, prev_hours):\n",
        "    super(Encoder, self).__init__()\n",
        "    self.prev_hours = prev_hours\n",
        "    self.hidden_dim = 8\n",
        "    self.stride = 2\n",
        "    self.in_channels_for_a_given_time = in_channels_for_a_given_time\n",
        "    self.conv_2 = nn.Conv2d(in_channels = self.in_channels_for_a_given_time, # one 2d lightnig grid at time t\n",
        "                          out_channels = 4, # from geng\n",
        "                          kernel_size = 7,\n",
        "                          stride = self.stride,\n",
        "                          padding = 3)\n",
        "    self.conv_lstm_cell = ConvLSTMCell(input_dim = 4,\n",
        "                               hidden_dim = self.hidden_dim,\n",
        "                               kernel_size = (5,5),\n",
        "                               bias=True)\n",
        "    # print(self.conv_2.weight.data.size())\n",
        "\n",
        "  def forward(self, input_tensor):\n",
        "    # x = self.conv_2(input_tensor.flatten(1,2))\n",
        "    # _, last_states = self.conv_lstm(torch.unflatten(x, dim = 1, sizes = (6, 4)))\n",
        "    # h,c = last_states[0]\n",
        "    b, prev_hours, channels, height, width = input_tensor.size()\n",
        "    h,c = self.init_hidden(batch_size=b, image_size=(height // self.stride, width // self.stride))\n",
        "\n",
        "    for t in range(prev_hours):\n",
        "      x = self.conv_2(input_tensor[:, t, :, :, :])\n",
        "      h, c = self.conv_lstm_cell(x, cur_state=[h, c])\n",
        "      return h,c\n",
        "\n",
        "    #####\n",
        "\n",
        "    #     layer_output_list = []\n",
        "    #     last_state_list = []\n",
        "\n",
        "    #     seq_len = input_tensor.size(1)\n",
        "    #     cur_layer_input = input_tensor\n",
        "\n",
        "    #     for layer_idx in range(self.num_layers):\n",
        "\n",
        "    #         h, c = hidden_state[layer_idx]\n",
        "    #         output_inner = []\n",
        "    #         for t in range(seq_len):\n",
        "    #             h, c = self.cell_list[layer_idx](input_tensor=cur_layer_input[:, t, :, :, :],\n",
        "    #                                              cur_state=[h, c])\n",
        "    #             output_inner.append(h)\n",
        "\n",
        "    #         layer_output = torch.stack(output_inner, dim=1)\n",
        "    #         cur_layer_input = layer_output\n",
        "\n",
        "    #         layer_output_list.append(layer_output)\n",
        "    #         last_state_list.append([h, c])\n",
        "\n",
        "    #     if not self.return_all_layers:\n",
        "    #         layer_output_list = layer_output_list[-1:]\n",
        "    #         last_state_list = last_state_list[-1:]\n",
        "\n",
        "    #     return layer_output_list, last_state_list\n",
        "\n",
        "    # return h,c\n",
        "\n",
        "  def init_hidden(self, batch_size, image_size):\n",
        "      height, width = image_size\n",
        "      return (torch.zeros(batch_size, self.hidden_dim, height, width, device=self.conv_2.weight.device),\n",
        "                torch.zeros(batch_size, self.hidden_dim, height, width, device=self.conv_2.weight.device))\n",
        "\n",
        "\n",
        "\n"
      ],
      "metadata": {
        "id": "Prj2dxsgF6ks"
      },
      "execution_count": 7,
      "outputs": []
    },
    {
      "cell_type": "code",
      "source": [
        "class Fusion(nn.Module):\n",
        "  def __init__(self, total_in_channels):\n",
        "    super(Fusion,self).__init__()\n",
        "    # h_stacked = torch.cat(h_list, dim = 1)\n",
        "    # sc_stacked = torch.cat(c_list, dim = 1)\n",
        "    self.conv_3 = nn.Conv2d(in_channels = total_in_channels,\n",
        "                            out_channels = 64, # from the paper\n",
        "                            kernel_size=1)\n",
        "    self.conv_4 = nn.Conv2d(in_channels = total_in_channels,\n",
        "                            out_channels = 64, # from the paper\n",
        "                            kernel_size=1)\n",
        "\n",
        "  def forward(self, h_list, c_list):\n",
        "    h_stacked = torch.cat(h_list, dim = 1)\n",
        "    c_stacked = torch.cat(c_list, dim = 1)\n",
        "\n",
        "\n",
        "    h_fused_conved = self.conv_3(h_stacked)\n",
        "    c_fused_conved = self.conv_4(c_stacked)\n",
        "\n",
        "    return h_fused_conved, c_fused_conved\n"
      ],
      "metadata": {
        "id": "W8nizYI4xMwa"
      },
      "execution_count": 8,
      "outputs": []
    },
    {
      "cell_type": "code",
      "source": [
        "class Decoder(nn.Module):\n",
        "  def __init__(self, in_channels_for_a_given_time, next_hours):\n",
        "    super(Decoder, self).__init__()\n",
        "    self.next_hours = next_hours\n",
        "    self.in_channels_for_a_given_time = in_channels_for_a_given_time\n",
        "    self.conv_5 = nn.Conv2d(in_channels = self.in_channels_for_a_given_time, # single L_{-1} frame\n",
        "                          out_channels = 4, # from geng\n",
        "                          kernel_size = 7,\n",
        "                          stride = 2,\n",
        "                          padding = 3)\n",
        "    self.conv_lstm_cell = ConvLSTMCell(input_dim=4, # output of conv\n",
        "                                       hidden_dim=64, # from geng\n",
        "                                       kernel_size=(5,5), # from geng\n",
        "                                       bias=True)\n",
        "    # print(self.conv_2.weight.data.size())\n",
        "    self.deconv = nn.ConvTranspose2d(in_channels=64, # as previous conv_lstm_cell had 64 hidden dim so the size is [:,64,:,:]\n",
        "                                     out_channels=64, # from geng\n",
        "                                     kernel_size = 7, # from geng\n",
        "                                     stride = 2, # from geng\n",
        "                                     padding = 3,\n",
        "                                     output_padding = 1) # not sure\n",
        "\n",
        "    self.conv_6 = nn.Conv2d(in_channels = 64, # previous deconv\n",
        "                          out_channels = 1, # as it is just one layer\n",
        "                          kernel_size = 1, # from geng\n",
        "                          stride = 1) # from geng\n",
        "\n",
        "  def forward(self, input_tensor_L_neg_1, h, c):\n",
        "    # x = self.conv_2(input_tensor.flatten(1,2))\n",
        "    # _, last_states = self.conv_lstm(torch.unflatten(x, dim = 1, sizes = (6, 4)))\n",
        "    # h,c = last_states[0]\n",
        "    b, _, height, width = input_tensor_L_neg_1.size()\n",
        "\n",
        "    pred_output = []\n",
        "\n",
        "    for i in range(self.next_hours):\n",
        "      # print(\"---\")\n",
        "      x = self.conv_5(input_tensor_L_neg_1)\n",
        "      # print(x.size())\n",
        "      # print(\"dbg\", x.size())\n",
        "      h, c = self.conv_lstm_cell(x, cur_state=[h, c])\n",
        "      # print(h.size())\n",
        "      x = self.deconv(h)\n",
        "      # print(x.size())\n",
        "      x = self.conv_6(x)\n",
        "      # print(x.size())\n",
        "\n",
        "      pred_output.append(x)\n",
        "      # print(\"---\")\n",
        "\n",
        "    pred_output = torch.stack(pred_output, 0).permute(1, 0, 2, 3, 4)\n",
        "    # print(torch.stack(pred_output, 0).size())\n",
        "\n",
        "\n",
        "\n",
        "\n",
        "\n",
        "    return pred_output\n",
        "\n"
      ],
      "metadata": {
        "id": "PJqnIYQz12H-"
      },
      "execution_count": 9,
      "outputs": []
    },
    {
      "cell_type": "code",
      "source": [
        "class LightNet(nn.Module):\n",
        "  def __init__(self):\n",
        "    super(LightNet, self).__init__()\n",
        "    self.obs_enc = Encoder(in_channels_for_a_given_time=1,\n",
        "                           prev_hours=6)\n",
        "    self.fus = Fusion(8) # total h (or c) channels. as we are going to use just one h from the obs encoder (size of h = [:,8,:,:])\n",
        "    self.pred_dec = Decoder(in_channels_for_a_given_time=1,\n",
        "                            next_hours=6)\n",
        "\n",
        "  def forward(self, input_tensor):\n",
        "    h,c = self.obs_enc(input_tensor)\n",
        "    h,c = self.fus([h],[c])\n",
        "    out = self.pred_dec(input_tensor[:,-1,:,:,:], h, c)\n",
        "\n",
        "    return out"
      ],
      "metadata": {
        "id": "m91fU11PQ9c0"
      },
      "execution_count": 10,
      "outputs": []
    },
    {
      "cell_type": "code",
      "source": [
        "# model = LightNet()\n",
        "# x = torch.rand((32, 6, 1, 50, 50)) # [batch_size, prev_hours, input_layer, image_height, image_width]\n",
        "# model(x)"
      ],
      "metadata": {
        "id": "DM8wyIeoSynw"
      },
      "execution_count": 11,
      "outputs": []
    },
    {
      "cell_type": "code",
      "source": [
        "def MeteorologicalMeasures(output, target):\n",
        "  output, target = output.to(torch.device(\"cuda\")), target.to(torch.device(\"cuda\"))\n",
        "  true_pos = 0\n",
        "  true_neg = 0\n",
        "\n",
        "  false_pos = 0\n",
        "  false_neg = 0\n",
        "\n",
        "  ytrue = target\n",
        "  ypred = torch.sigmoid(output)\n",
        "  ypred = torch.round(ypred)\n",
        "  true_positives = torch.sum(ytrue * ypred)\n",
        "  false_positives = torch.sum((1-ytrue)*ypred)\n",
        "  possible_positives = torch.sum(ytrue)\n",
        "  POD = true_positives / (possible_positives + 1e-10)\n",
        "  predicted_positives = torch.sum(ypred)\n",
        "  FAR = false_positives / (predicted_positives + 1e-10)\n",
        "  return POD, FAR\n",
        "\n"
      ],
      "metadata": {
        "id": "jXX1TM7eV9F8"
      },
      "execution_count": 12,
      "outputs": []
    },
    {
      "cell_type": "code",
      "source": [
        "def weighted_cross_entropy_with_logits(logits, targets, pos_weight):\n",
        "    return torch.sum(targets * -torch.sigmoid(logits).log() * pos_weight + (1 - targets) * -(1 - torch.sigmoid(logits)).log())/logits.size(0)"
      ],
      "metadata": {
        "id": "ELnesG66xiAr"
      },
      "execution_count": 13,
      "outputs": []
    },
    {
      "cell_type": "code",
      "source": [
        "def train(model):\n",
        "  # random data\n",
        "  # data = torch.rand((1024,1,50,50), dtype=torch.double)\n",
        "  # data[data>0.5] = 1.0\n",
        "  # data[data<0.5] = 0.0\n",
        "\n",
        "  # GLM data\n",
        "\n",
        "  data = torch.from_numpy(np.load('flash_count_array.npy')).double()\n",
        "  data[data>1.0] = 1.0\n",
        "  print(\"data has the size : \", data.size())\n",
        "\n",
        "  train_pct = 0.85\n",
        "  prev_hours = 6\n",
        "  next_hours = 6\n",
        "  batch_size = 32\n",
        "  start_index_list = list(range(data.size(0) - prev_hours - next_hours))\n",
        "  random.shuffle(start_index_list)\n",
        "  train_start_index_list = start_index_list[:int(len(start_index_list)*train_pct)]\n",
        "  val_start_index_list = start_index_list[int(len(start_index_list)*train_pct):]\n",
        "  # print(\"hello\")\n",
        "\n",
        "  # print(len(train_start_index_list))\n",
        "  # print(len(val_start_index_list))\n",
        "\n",
        "  ## train set creation\n",
        "  train_x_set = []\n",
        "  train_y_set = []\n",
        "  for i in range(len(train_start_index_list) // batch_size):\n",
        "    train_x_batch = []\n",
        "    train_y_batch = []\n",
        "    for j in range(batch_size):\n",
        "      start = train_start_index_list[batch_size * i + j]\n",
        "      train_x_batch.append(data[start:(start+prev_hours),:,:,:])\n",
        "      train_y_batch.append(data[(start+prev_hours):(start+prev_hours+next_hours),:,:,:])\n",
        "\n",
        "    train_x_batch = torch.stack(train_x_batch,0)\n",
        "    train_y_batch = torch.stack(train_y_batch,0)\n",
        "\n",
        "    train_x_set.append(train_x_batch)\n",
        "    train_y_set.append(train_y_batch)\n",
        "\n",
        "  # train_x_set = torch.stack(train_x_set,0)\n",
        "  # train_y_set = torch.stack(train_y_set,0)\n",
        "  # print(train_x_set.size())\n",
        "  # print(train_y_set.size())\n",
        "\n",
        "  ## validation set creation\n",
        "  val_x_set = []\n",
        "  val_y_set = []\n",
        "  for i in range(len(val_start_index_list) // batch_size):\n",
        "    val_x_batch = []\n",
        "    val_y_batch = []\n",
        "    for j in range(batch_size):\n",
        "      start = val_start_index_list[batch_size * i + j]\n",
        "      val_x_batch.append(data[start:(start+prev_hours),:,:,:])\n",
        "      val_y_batch.append(data[(start+prev_hours):(start+prev_hours+next_hours),:,:,:])\n",
        "\n",
        "    val_x_batch = torch.stack(val_x_batch,0)\n",
        "    val_y_batch = torch.stack(val_y_batch,0)\n",
        "\n",
        "    val_x_set.append(val_x_batch)\n",
        "    val_y_set.append(val_y_batch)\n",
        "\n",
        "  # val_x_set = torch.stack(val_x_set,0)\n",
        "  # val_y_set = torch.stack(val_y_set,0)\n",
        "  # print(val_x_set.size())\n",
        "  # print(val_y_set.size())\n",
        "  # print(data[start:(start+prev_hours+next_hours),:,:,:].size())\n",
        "\n",
        "  model.double()\n",
        "  # print(model(train_x_set[0]).size())\n",
        "\n",
        "  ce_loss = nn.CrossEntropyLoss()\n",
        "\n",
        "  optimizer = torch.optim.Adam(model.parameters(), lr=0.0001)\n",
        "  epoch = 50\n",
        "\n",
        "  avg_train_loss_list = []\n",
        "  avg_val_loss_list = []\n",
        "  avg_train_POD_list = []\n",
        "  avg_train_FAR_list = []\n",
        "  avg_train_ETS_list = []\n",
        "  train_accuracy_list = []\n",
        "  avg_val_POD_list = []\n",
        "  avg_val_FAR_list= []\n",
        "  avg_val_ETS_list = []\n",
        "  val_accuracy_list = []\n",
        "\n",
        "  for e in range(epoch):\n",
        "    avg_train_loss = 0\n",
        "    avg_val_loss = 0\n",
        "    avg_train_POD = 0\n",
        "    avg_train_FAR = 0\n",
        "    avg_train_ETS = 0\n",
        "    train_correct = 0\n",
        "    avg_val_POD = 0\n",
        "    avg_val_FAR = 0\n",
        "    avg_val_ETS = 0\n",
        "    val_correct = 0\n",
        "\n",
        "    print(\"Epoch [\",e+1,\"/\",epoch,\"]\", end=\" \")\n",
        "\n",
        "    for i in tqdm(range(len(train_x_set))):\n",
        "      data, target = train_x_set[i].to(torch.device(\"cuda\")), train_y_set[i].to(torch.device(\"cuda\"))\n",
        "      optimizer.zero_grad()\n",
        "      # train\n",
        "      model.train()\n",
        "      output = model(data)\n",
        "      # train_loss = ce_loss(output, target)\n",
        "      train_loss = weighted_cross_entropy_with_logits(output, target, 16)\n",
        "      train_POD, train_FAR = MeteorologicalMeasures(output, target)\n",
        "      avg_train_loss = avg_train_loss + train_loss.item()\n",
        "      avg_train_POD = avg_train_POD + train_POD.item()\n",
        "      avg_train_FAR = avg_train_FAR + train_FAR.item()\n",
        "      train_correct += (output.round() == target).double().sum()\n",
        "      # avg_train_ETS = avg_train_ETS + train_ETS\n",
        "      train_loss.backward()\n",
        "      optimizer.step()\n",
        "\n",
        "\n",
        "    for i in range(len(val_x_set)):\n",
        "      data, target = val_x_set[i].to(torch.device(\"cuda\")), val_y_set[i].to(torch.device(\"cuda\"))\n",
        "      # val\n",
        "      model.eval()\n",
        "      output = model(data)\n",
        "      # val_loss = ce_loss(output, target)\n",
        "      val_loss = weighted_cross_entropy_with_logits(output, target, 16)\n",
        "      val_POD, val_FAR = MeteorologicalMeasures(output, target)\n",
        "      avg_val_loss = avg_val_loss + val_loss.item()\n",
        "      avg_val_POD = avg_val_POD + val_POD.item()\n",
        "      avg_val_FAR = avg_val_FAR + val_FAR.item()\n",
        "      val_correct += (output.round() == target).double().sum()\n",
        "      # avg_val_ETS = avg_val_ETS + val_ETS\n",
        "      # train_loss.backward()\n",
        "      # optimizer.step()\n",
        "    avg_train_loss = avg_train_loss / len(train_x_set)\n",
        "    avg_train_POD = avg_train_POD / len(train_x_set)\n",
        "    avg_train_FAR = avg_train_FAR / len(train_x_set)\n",
        "    avg_train_ETS = avg_train_ETS / len(train_x_set)\n",
        "    train_accuracy = train_correct.item() / (len(train_x_set)*batch_size*next_hours*50*50)\n",
        "\n",
        "    avg_train_loss_list.append(avg_train_loss)\n",
        "    avg_train_POD_list.append(avg_train_POD)\n",
        "    avg_train_FAR_list.append(avg_train_FAR)\n",
        "    train_accuracy_list.append(train_accuracy)\n",
        "\n",
        "    avg_val_loss = avg_val_loss / len(val_x_set)\n",
        "    avg_val_POD = avg_val_POD / len(val_x_set)\n",
        "    avg_val_FAR = avg_val_FAR / len(val_x_set)\n",
        "    avg_val_ETS = avg_val_ETS / len(val_x_set)\n",
        "    val_accuracy = val_correct.item() / (len(val_x_set)*batch_size*next_hours*50*50)\n",
        "\n",
        "    avg_val_loss_list.append(avg_val_loss)\n",
        "    avg_val_POD_list.append(avg_val_POD)\n",
        "    avg_val_FAR_list.append(avg_val_FAR)\n",
        "    val_accuracy_list.append(val_accuracy)\n",
        "\n",
        "    print(\"train\")\n",
        "    print(\"loss\", avg_train_loss,\"|\", \"acc\", train_accuracy,\"|\", \"POD\", avg_train_POD,\"|\", \"FAR\", avg_train_FAR)#,\"|\", \"train ETS\", avg_train_ETS)\n",
        "    print(\"validation\")\n",
        "    print(\"loss\", avg_val_loss,\"|\", \"acc\", val_accuracy,\"|\", \"POD\", avg_val_POD,\"|\", \"FAR\", avg_val_FAR)#,\"|\", \"val ETS\", avg_val_ETS)\n",
        "    print()\n",
        "\n",
        "\n",
        "  print(epoch, len(avg_train_loss_list))\n",
        "  ## LOSS\n",
        "  plt.title('Loss (lower better)')\n",
        "  plt.plot(range(1, epoch+1), avg_train_loss_list, color='red', label='Train')\n",
        "  plt.plot(range(1, epoch+1), avg_val_loss_list, color='blue', label='Validation')\n",
        "  # plt.gca().xaxis.set_major_locator(mticker.MultipleLocator(1))\n",
        "  plt.legend()\n",
        "  plt.xlabel(\"Epochs\")\n",
        "  plt.ylabel(\"Loss\")\n",
        "  plt.show()\n",
        "\n",
        "  ## ACCURACY\n",
        "  plt.title('Accuracy (higher better)')\n",
        "  plt.plot(range(1, epoch+1), train_accuracy_list, color='red', label='Train')\n",
        "  plt.plot(range(1, epoch+1), val_accuracy_list, color='blue', label='Validation')\n",
        "  # plt.gca().xaxis.set_major_locator(mticker.MultipleLocator(1))\n",
        "  plt.legend()\n",
        "  plt.xlabel(\"Epochs\")\n",
        "  plt.ylabel(\"Accuracy\")\n",
        "  plt.show()\n",
        "\n",
        "  ## POD\n",
        "  plt.title('POD (higher better)')\n",
        "  plt.plot(range(1, epoch+1), avg_train_POD_list, color='red', label='Train')\n",
        "  plt.plot(range(1, epoch+1), avg_val_POD_list, color='blue', label='Validation')\n",
        "  # plt.gca().xaxis.set_major_locator(mticker.MultipleLocator(1))\n",
        "  plt.legend()\n",
        "  plt.xlabel(\"Epochs\")\n",
        "  plt.ylabel(\"POD\")\n",
        "  plt.show()\n",
        "\n",
        "  ## FAR\n",
        "  plt.title('FAR (lower better)')\n",
        "  plt.plot(range(1, epoch+1), avg_train_FAR_list, color='red', label='Train')\n",
        "  plt.plot(range(1, epoch+1), avg_val_FAR_list, color='blue', label='Validation')\n",
        "  # plt.gca().xaxis.set_major_locator(mticker.MultipleLocator(1))\n",
        "  plt.legend()\n",
        "  plt.xlabel(\"Epochs\")\n",
        "  plt.ylabel(\"FAR\")\n",
        "  plt.show()\n",
        "      # if batch_idx % args.log_interval == 0:\n",
        "      # print('Train Epoch: {} [{}/{} ({:.0f}%)]\\tLoss: {:.6f}'.format(\n",
        "      #             epoch, i * len(data), len(train_loader.dataset),\n",
        "      #             100. * batch_idx / len(train_loader), loss.item()))\n",
        "      #         if args.dry_run:\n",
        "      #             break\n",
        "      # for i in range(opt.steps):\n",
        "      #     print('STEP: ', i)\n",
        "      #     def closure():\n",
        "      #         optimizer.zero_grad()\n",
        "      #         out = seq(input)\n",
        "      #         loss = criterion(out, target)\n",
        "      #         print('loss:', loss.item())\n",
        "      #         loss.backward()\n",
        "      #         return loss\n",
        "      #     optimizer.step(closure)\n",
        "\n",
        "\n",
        "model = LightNet()\n",
        "model.to(torch.device('cuda'))\n",
        "train(model)\n"
      ],
      "metadata": {
        "colab": {
          "base_uri": "https://localhost:8080/",
          "height": 1000
        },
        "id": "Qkh2qDiuWOXh",
        "outputId": "691fc945-f7c6-4b7e-e1c0-b18fd44f7d6f"
      },
      "execution_count": 14,
      "outputs": [
        {
          "output_type": "stream",
          "name": "stdout",
          "text": [
            "data has the size :  torch.Size([1000, 1, 50, 50])\n",
            "Epoch [ 1 / 50 ] "
          ]
        },
        {
          "output_type": "stream",
          "name": "stderr",
          "text": [
            "100%|██████████| 26/26 [01:24<00:00,  3.23s/it]\n"
          ]
        },
        {
          "output_type": "stream",
          "name": "stdout",
          "text": [
            "train\n",
            "loss 10394.715232613533 | acc 0.646673076923077 | POD 0.0 | FAR 0.0\n",
            "validation\n",
            "loss 7961.205991164157 | acc 0.0059328125 | POD 0.0 | FAR 0.0\n",
            "\n",
            "Epoch [ 2 / 50 ] "
          ]
        },
        {
          "output_type": "stream",
          "name": "stderr",
          "text": [
            "100%|██████████| 26/26 [01:25<00:00,  3.28s/it]\n"
          ]
        },
        {
          "output_type": "stream",
          "name": "stdout",
          "text": [
            "train\n",
            "loss 7945.970868123447 | acc 0.011272355769230769 | POD 0.0 | FAR 0.0\n",
            "validation\n",
            "loss 7274.650181294588 | acc 0.0040104166666666665 | POD 0.0 | FAR 0.0\n",
            "\n",
            "Epoch [ 3 / 50 ] "
          ]
        },
        {
          "output_type": "stream",
          "name": "stderr",
          "text": [
            "100%|██████████| 26/26 [01:25<00:00,  3.28s/it]\n"
          ]
        },
        {
          "output_type": "stream",
          "name": "stdout",
          "text": [
            "train\n",
            "loss 7679.579556465172 | acc 0.004183333333333333 | POD 0.0 | FAR 0.0\n",
            "validation\n",
            "loss 7138.832382979257 | acc 0.0029026041666666666 | POD 0.0 | FAR 0.0\n",
            "\n",
            "Epoch [ 4 / 50 ] "
          ]
        },
        {
          "output_type": "stream",
          "name": "stderr",
          "text": [
            "100%|██████████| 26/26 [01:25<00:00,  3.28s/it]\n"
          ]
        },
        {
          "output_type": "stream",
          "name": "stdout",
          "text": [
            "train\n",
            "loss 7550.799570140477 | acc 0.002795272435897436 | POD 0.0 | FAR 0.0\n",
            "validation\n",
            "loss 7010.029652571119 | acc 0.0024234375 | POD 0.0 | FAR 0.0\n",
            "\n",
            "Epoch [ 5 / 50 ] "
          ]
        },
        {
          "output_type": "stream",
          "name": "stderr",
          "text": [
            "100%|██████████| 26/26 [01:25<00:00,  3.28s/it]\n"
          ]
        },
        {
          "output_type": "stream",
          "name": "stdout",
          "text": [
            "train\n",
            "loss 7370.976042395123 | acc 0.0027116185897435897 | POD 0.0 | FAR 0.0\n",
            "validation\n",
            "loss 6758.664258085023 | acc 0.002715625 | POD 0.0 | FAR 0.0\n",
            "\n",
            "Epoch [ 6 / 50 ] "
          ]
        },
        {
          "output_type": "stream",
          "name": "stderr",
          "text": [
            "100%|██████████| 26/26 [01:25<00:00,  3.28s/it]\n"
          ]
        },
        {
          "output_type": "stream",
          "name": "stdout",
          "text": [
            "train\n",
            "loss 6851.636497910854 | acc 0.006995592948717949 | POD 0.0062266964038723005 | FAR 0.48012271909173043\n",
            "validation\n",
            "loss 5797.900637332683 | acc 0.018910416666666666 | POD 0.06407217398593883 | FAR 0.8656043207781658\n",
            "\n",
            "Epoch [ 7 / 50 ] "
          ]
        },
        {
          "output_type": "stream",
          "name": "stderr",
          "text": [
            "100%|██████████| 26/26 [01:25<00:00,  3.28s/it]\n"
          ]
        },
        {
          "output_type": "stream",
          "name": "stdout",
          "text": [
            "train\n",
            "loss 5647.873728145457 | acc 0.037106570512820514 | POD 0.25373397154334865 | FAR 0.8994558520579751\n",
            "validation\n",
            "loss 4908.648630438769 | acc 0.04244427083333333 | POD 0.370887715111712 | FAR 0.9123564875538188\n",
            "\n",
            "Epoch [ 8 / 50 ] "
          ]
        },
        {
          "output_type": "stream",
          "name": "stderr",
          "text": [
            "100%|██████████| 26/26 [01:25<00:00,  3.28s/it]\n"
          ]
        },
        {
          "output_type": "stream",
          "name": "stdout",
          "text": [
            "train\n",
            "loss 5019.324467668837 | acc 0.04440048076923077 | POD 0.3806286360352119 | FAR 0.8945857316754547\n",
            "validation\n",
            "loss 4462.72083088931 | acc 0.04463333333333333 | POD 0.4434263556871689 | FAR 0.8951468369225227\n",
            "\n",
            "Epoch [ 9 / 50 ] "
          ]
        },
        {
          "output_type": "stream",
          "name": "stderr",
          "text": [
            "100%|██████████| 26/26 [01:25<00:00,  3.29s/it]\n"
          ]
        },
        {
          "output_type": "stream",
          "name": "stdout",
          "text": [
            "train\n",
            "loss 4648.7949968844205 | acc 0.04878357371794872 | POD 0.4795427234077329 | FAR 0.8894414005506804\n",
            "validation\n",
            "loss 4197.194695758242 | acc 0.04734791666666667 | POD 0.5121837951915217 | FAR 0.8875504753582486\n",
            "\n",
            "Epoch [ 10 / 50 ] "
          ]
        },
        {
          "output_type": "stream",
          "name": "stderr",
          "text": [
            "100%|██████████| 26/26 [01:25<00:00,  3.28s/it]\n"
          ]
        },
        {
          "output_type": "stream",
          "name": "stdout",
          "text": [
            "train\n",
            "loss 4413.387937066902 | acc 0.05139735576923077 | POD 0.536158122603261 | FAR 0.8829021792502625\n",
            "validation\n",
            "loss 4024.063566146363 | acc 0.050284375 | POD 0.5633944404922888 | FAR 0.882230058545116\n",
            "\n",
            "Epoch [ 11 / 50 ] "
          ]
        },
        {
          "output_type": "stream",
          "name": "stderr",
          "text": [
            "100%|██████████| 26/26 [01:25<00:00,  3.28s/it]\n"
          ]
        },
        {
          "output_type": "stream",
          "name": "stdout",
          "text": [
            "train\n",
            "loss 4255.94509821888 | acc 0.052255929487179484 | POD 0.5693564740633182 | FAR 0.8781007258205443\n",
            "validation\n",
            "loss 3902.4915298594287 | acc 0.0499140625 | POD 0.5864318136559661 | FAR 0.8784032165310259\n",
            "\n",
            "Epoch [ 12 / 50 ] "
          ]
        },
        {
          "output_type": "stream",
          "name": "stderr",
          "text": [
            "100%|██████████| 26/26 [01:25<00:00,  3.28s/it]\n"
          ]
        },
        {
          "output_type": "stream",
          "name": "stdout",
          "text": [
            "train\n",
            "loss 4138.712220133844 | acc 0.05101121794871795 | POD 0.5931411982343114 | FAR 0.8737624942473918\n",
            "validation\n",
            "loss 3806.159502231321 | acc 0.04761927083333333 | POD 0.602796480679857 | FAR 0.8747919697102995\n",
            "\n",
            "Epoch [ 13 / 50 ] "
          ]
        },
        {
          "output_type": "stream",
          "name": "stderr",
          "text": [
            "100%|██████████| 26/26 [01:25<00:00,  3.28s/it]\n"
          ]
        },
        {
          "output_type": "stream",
          "name": "stdout",
          "text": [
            "train\n",
            "loss 4042.1428529606483 | acc 0.04880608974358974 | POD 0.6104153603730068 | FAR 0.8696335043593363\n",
            "validation\n",
            "loss 3722.3906839744773 | acc 0.04470416666666667 | POD 0.6141452322987555 | FAR 0.8701379483208637\n",
            "\n",
            "Epoch [ 14 / 50 ] "
          ]
        },
        {
          "output_type": "stream",
          "name": "stderr",
          "text": [
            "100%|██████████| 26/26 [01:25<00:00,  3.28s/it]\n"
          ]
        },
        {
          "output_type": "stream",
          "name": "stdout",
          "text": [
            "train\n",
            "loss 3959.621646439301 | acc 0.04672996794871795 | POD 0.622204345548745 | FAR 0.8655212628755362\n",
            "validation\n",
            "loss 3647.7030477003777 | acc 0.04140833333333333 | POD 0.6169257632133488 | FAR 0.8638242904625337\n",
            "\n",
            "Epoch [ 15 / 50 ] "
          ]
        },
        {
          "output_type": "stream",
          "name": "stderr",
          "text": [
            "100%|██████████| 26/26 [01:25<00:00,  3.29s/it]\n"
          ]
        },
        {
          "output_type": "stream",
          "name": "stdout",
          "text": [
            "train\n",
            "loss 3887.244304908333 | acc 0.04493317307692308 | POD 0.6302635251853841 | FAR 0.861423315659644\n",
            "validation\n",
            "loss 3590.3277994009563 | acc 0.03849583333333333 | POD 0.6190920744078677 | FAR 0.8574648295984337\n",
            "\n",
            "Epoch [ 16 / 50 ] "
          ]
        },
        {
          "output_type": "stream",
          "name": "stderr",
          "text": [
            "100%|██████████| 26/26 [01:25<00:00,  3.29s/it]\n"
          ]
        },
        {
          "output_type": "stream",
          "name": "stdout",
          "text": [
            "train\n",
            "loss 3822.0682665659547 | acc 0.04351434294871795 | POD 0.6367844056599898 | FAR 0.8576199994577837\n",
            "validation\n",
            "loss 3532.614733870428 | acc 0.038756770833333336 | POD 0.6297932183841088 | FAR 0.8557705466309218\n",
            "\n",
            "Epoch [ 17 / 50 ] "
          ]
        },
        {
          "output_type": "stream",
          "name": "stderr",
          "text": [
            "100%|██████████| 26/26 [01:25<00:00,  3.28s/it]\n"
          ]
        },
        {
          "output_type": "stream",
          "name": "stdout",
          "text": [
            "train\n",
            "loss 3767.9766789445052 | acc 0.04241522435897436 | POD 0.643323778494896 | FAR 0.8541421436453943\n",
            "validation\n",
            "loss 3483.3546988915996 | acc 0.03827864583333333 | POD 0.6374862952000101 | FAR 0.85352322326753\n",
            "\n",
            "Epoch [ 18 / 50 ] "
          ]
        },
        {
          "output_type": "stream",
          "name": "stderr",
          "text": [
            "100%|██████████| 26/26 [01:25<00:00,  3.28s/it]\n"
          ]
        },
        {
          "output_type": "stream",
          "name": "stdout",
          "text": [
            "train\n",
            "loss 3718.183255593932 | acc 0.04148774038461538 | POD 0.6490534309682683 | FAR 0.8511600220106769\n",
            "validation\n",
            "loss 3437.753548140805 | acc 0.03748697916666666 | POD 0.645907516855967 | FAR 0.8505478175240344\n",
            "\n",
            "Epoch [ 19 / 50 ] "
          ]
        },
        {
          "output_type": "stream",
          "name": "stderr",
          "text": [
            "100%|██████████| 26/26 [01:25<00:00,  3.28s/it]\n"
          ]
        },
        {
          "output_type": "stream",
          "name": "stdout",
          "text": [
            "train\n",
            "loss 3670.5383696022104 | acc 0.04073741987179487 | POD 0.6549891879796798 | FAR 0.8484861351795507\n",
            "validation\n",
            "loss 3395.2320544613876 | acc 0.03656770833333333 | POD 0.6506584017011197 | FAR 0.8479908990369763\n",
            "\n",
            "Epoch [ 20 / 50 ] "
          ]
        },
        {
          "output_type": "stream",
          "name": "stderr",
          "text": [
            "100%|██████████| 26/26 [01:25<00:00,  3.28s/it]\n"
          ]
        },
        {
          "output_type": "stream",
          "name": "stdout",
          "text": [
            "train\n",
            "loss 3625.014919434873 | acc 0.04007051282051282 | POD 0.660287455331527 | FAR 0.8460907919492429\n",
            "validation\n",
            "loss 3354.7443335653606 | acc 0.03595729166666667 | POD 0.6560704813533726 | FAR 0.8457636273936288\n",
            "\n",
            "Epoch [ 21 / 50 ] "
          ]
        },
        {
          "output_type": "stream",
          "name": "stderr",
          "text": [
            "100%|██████████| 26/26 [01:25<00:00,  3.29s/it]\n"
          ]
        },
        {
          "output_type": "stream",
          "name": "stdout",
          "text": [
            "train\n",
            "loss 3582.2527209300574 | acc 0.03955528846153846 | POD 0.6657063905023501 | FAR 0.8435848488120785\n",
            "validation\n",
            "loss 3315.3871103617794 | acc 0.03555 | POD 0.6628270835673602 | FAR 0.8431260705723975\n",
            "\n",
            "Epoch [ 22 / 50 ] "
          ]
        },
        {
          "output_type": "stream",
          "name": "stderr",
          "text": [
            "100%|██████████| 26/26 [01:25<00:00,  3.29s/it]\n"
          ]
        },
        {
          "output_type": "stream",
          "name": "stdout",
          "text": [
            "train\n",
            "loss 3541.427495071781 | acc 0.03910889423076923 | POD 0.6712910860129386 | FAR 0.8411079023092136\n",
            "validation\n",
            "loss 3277.3963328597206 | acc 0.035008854166666666 | POD 0.666809627338607 | FAR 0.8398629102353261\n",
            "\n",
            "Epoch [ 23 / 50 ] "
          ]
        },
        {
          "output_type": "stream",
          "name": "stderr",
          "text": [
            "100%|██████████| 26/26 [01:25<00:00,  3.29s/it]\n"
          ]
        },
        {
          "output_type": "stream",
          "name": "stdout",
          "text": [
            "train\n",
            "loss 3502.1781949305446 | acc 0.038750080128205126 | POD 0.6772112676174005 | FAR 0.8384879245589876\n",
            "validation\n",
            "loss 3241.000785227237 | acc 0.0344984375 | POD 0.6690698398492385 | FAR 0.8370785462254906\n",
            "\n",
            "Epoch [ 24 / 50 ] "
          ]
        },
        {
          "output_type": "stream",
          "name": "stderr",
          "text": [
            "100%|██████████| 26/26 [01:25<00:00,  3.29s/it]\n"
          ]
        },
        {
          "output_type": "stream",
          "name": "stdout",
          "text": [
            "train\n",
            "loss 3464.747301908906 | acc 0.038393028846153844 | POD 0.6825133530692208 | FAR 0.8359520299971409\n",
            "validation\n",
            "loss 3206.1586763926034 | acc 0.034058333333333336 | POD 0.6735439936737366 | FAR 0.8342421002070456\n",
            "\n",
            "Epoch [ 25 / 50 ] "
          ]
        },
        {
          "output_type": "stream",
          "name": "stderr",
          "text": [
            "100%|██████████| 26/26 [01:25<00:00,  3.28s/it]\n"
          ]
        },
        {
          "output_type": "stream",
          "name": "stdout",
          "text": [
            "train\n",
            "loss 3429.178421393411 | acc 0.03799278846153846 | POD 0.6872620665923961 | FAR 0.8334506745692465\n",
            "validation\n",
            "loss 3173.0644743331886 | acc 0.033653125 | POD 0.678438875265484 | FAR 0.8313352484550423\n",
            "\n",
            "Epoch [ 26 / 50 ] "
          ]
        },
        {
          "output_type": "stream",
          "name": "stderr",
          "text": [
            "100%|██████████| 26/26 [01:25<00:00,  3.29s/it]\n"
          ]
        },
        {
          "output_type": "stream",
          "name": "stdout",
          "text": [
            "train\n",
            "loss 3395.793112103449 | acc 0.037536057692307695 | POD 0.6913224130986085 | FAR 0.8310464127650883\n",
            "validation\n",
            "loss 3142.491356127057 | acc 0.03315208333333333 | POD 0.6817603796534754 | FAR 0.82889458008294\n",
            "\n",
            "Epoch [ 27 / 50 ] "
          ]
        },
        {
          "output_type": "stream",
          "name": "stderr",
          "text": [
            "100%|██████████| 26/26 [01:25<00:00,  3.29s/it]\n"
          ]
        },
        {
          "output_type": "stream",
          "name": "stdout",
          "text": [
            "train\n",
            "loss 3365.3115064583912 | acc 0.03704607371794872 | POD 0.6946387208379983 | FAR 0.8288632927168247\n",
            "validation\n",
            "loss 3115.3090486797373 | acc 0.03265885416666667 | POD 0.684436116639585 | FAR 0.8262718156628561\n",
            "\n",
            "Epoch [ 28 / 50 ] "
          ]
        },
        {
          "output_type": "stream",
          "name": "stderr",
          "text": [
            "100%|██████████| 26/26 [01:25<00:00,  3.28s/it]\n"
          ]
        },
        {
          "output_type": "stream",
          "name": "stdout",
          "text": [
            "train\n",
            "loss 3337.9467227230657 | acc 0.03656794871794872 | POD 0.6972941135377997 | FAR 0.8270251573475578\n",
            "validation\n",
            "loss 3091.491936919094 | acc 0.032151041666666665 | POD 0.6866818746511948 | FAR 0.8237244284599909\n",
            "\n",
            "Epoch [ 29 / 50 ] "
          ]
        },
        {
          "output_type": "stream",
          "name": "stderr",
          "text": [
            "100%|██████████| 26/26 [01:25<00:00,  3.28s/it]\n"
          ]
        },
        {
          "output_type": "stream",
          "name": "stdout",
          "text": [
            "train\n",
            "loss 3313.2397932119907 | acc 0.03612676282051282 | POD 0.7003791963306347 | FAR 0.8252337378259071\n",
            "validation\n",
            "loss 3070.200570912986 | acc 0.03172239583333333 | POD 0.6891781794939847 | FAR 0.821548428380285\n",
            "\n",
            "Epoch [ 30 / 50 ] "
          ]
        },
        {
          "output_type": "stream",
          "name": "stderr",
          "text": [
            "100%|██████████| 26/26 [01:25<00:00,  3.29s/it]\n"
          ]
        },
        {
          "output_type": "stream",
          "name": "stdout",
          "text": [
            "train\n",
            "loss 3290.7749957293568 | acc 0.03568277243589744 | POD 0.7029873765876198 | FAR 0.8236280790663618\n",
            "validation\n",
            "loss 3050.7545709439974 | acc 0.031322916666666666 | POD 0.6923398353541022 | FAR 0.8196870682282569\n",
            "\n",
            "Epoch [ 31 / 50 ] "
          ]
        },
        {
          "output_type": "stream",
          "name": "stderr",
          "text": [
            "100%|██████████| 26/26 [01:25<00:00,  3.29s/it]\n"
          ]
        },
        {
          "output_type": "stream",
          "name": "stdout",
          "text": [
            "train\n",
            "loss 3270.1415716952188 | acc 0.03527347756410256 | POD 0.7050308655737751 | FAR 0.8221689300604756\n",
            "validation\n",
            "loss 3032.8651958425953 | acc 0.031041666666666665 | POD 0.6949996862604044 | FAR 0.8183484384383012\n",
            "\n",
            "Epoch [ 32 / 50 ] "
          ]
        },
        {
          "output_type": "stream",
          "name": "stderr",
          "text": [
            "100%|██████████| 26/26 [01:25<00:00,  3.28s/it]\n"
          ]
        },
        {
          "output_type": "stream",
          "name": "stdout",
          "text": [
            "train\n",
            "loss 3251.0138294571666 | acc 0.03484919871794872 | POD 0.707292843744923 | FAR 0.8206481111339647\n",
            "validation\n",
            "loss 3016.324065464136 | acc 0.03076145833333333 | POD 0.6974322220587198 | FAR 0.8169579579238515\n",
            "\n",
            "Epoch [ 33 / 50 ] "
          ]
        },
        {
          "output_type": "stream",
          "name": "stderr",
          "text": [
            "100%|██████████| 26/26 [01:25<00:00,  3.28s/it]\n"
          ]
        },
        {
          "output_type": "stream",
          "name": "stdout",
          "text": [
            "train\n",
            "loss 3233.2475208229635 | acc 0.03447459935897436 | POD 0.7088883477065357 | FAR 0.8193131151738762\n",
            "validation\n",
            "loss 3000.9495507005317 | acc 0.0305484375 | POD 0.7003038751957735 | FAR 0.8156105030624247\n",
            "\n",
            "Epoch [ 34 / 50 ] "
          ]
        },
        {
          "output_type": "stream",
          "name": "stderr",
          "text": [
            "100%|██████████| 26/26 [01:25<00:00,  3.28s/it]\n"
          ]
        },
        {
          "output_type": "stream",
          "name": "stdout",
          "text": [
            "train\n",
            "loss 3216.7202799155084 | acc 0.03413533653846154 | POD 0.7106381789819882 | FAR 0.8179140924899294\n",
            "validation\n",
            "loss 2986.617367952554 | acc 0.030193229166666665 | POD 0.7025207850334919 | FAR 0.8139101713999707\n",
            "\n",
            "Epoch [ 35 / 50 ] "
          ]
        },
        {
          "output_type": "stream",
          "name": "stderr",
          "text": [
            "100%|██████████| 26/26 [01:25<00:00,  3.28s/it]\n"
          ]
        },
        {
          "output_type": "stream",
          "name": "stdout",
          "text": [
            "train\n",
            "loss 3201.299196969977 | acc 0.03378926282051282 | POD 0.7125931136537808 | FAR 0.8165179517019134\n",
            "validation\n",
            "loss 2973.261011062715 | acc 0.02993125 | POD 0.7037344489230686 | FAR 0.812691735249731\n",
            "\n",
            "Epoch [ 36 / 50 ] "
          ]
        },
        {
          "output_type": "stream",
          "name": "stderr",
          "text": [
            "100%|██████████| 26/26 [01:25<00:00,  3.28s/it]\n"
          ]
        },
        {
          "output_type": "stream",
          "name": "stdout",
          "text": [
            "train\n",
            "loss 3186.871220919992 | acc 0.033473317307692305 | POD 0.7139484457400539 | FAR 0.8152556624814937\n",
            "validation\n",
            "loss 2960.8315844051062 | acc 0.029646875 | POD 0.7052701399706907 | FAR 0.8113164990460837\n",
            "\n",
            "Epoch [ 37 / 50 ] "
          ]
        },
        {
          "output_type": "stream",
          "name": "stderr",
          "text": [
            "100%|██████████| 26/26 [01:25<00:00,  3.28s/it]\n"
          ]
        },
        {
          "output_type": "stream",
          "name": "stdout",
          "text": [
            "train\n",
            "loss 3173.3381708624147 | acc 0.03317371794871795 | POD 0.7150496075688361 | FAR 0.8140850521273987\n",
            "validation\n",
            "loss 2949.26353412955 | acc 0.029397916666666666 | POD 0.7066114070438528 | FAR 0.8099545730191798\n",
            "\n",
            "Epoch [ 38 / 50 ] "
          ]
        },
        {
          "output_type": "stream",
          "name": "stderr",
          "text": [
            "100%|██████████| 26/26 [01:25<00:00,  3.29s/it]\n"
          ]
        },
        {
          "output_type": "stream",
          "name": "stdout",
          "text": [
            "train\n",
            "loss 3160.6159148998486 | acc 0.03288573717948718 | POD 0.7164733648687114 | FAR 0.8128684253129644\n",
            "validation\n",
            "loss 2938.4788147393124 | acc 0.029128125 | POD 0.7078884515329225 | FAR 0.8088296025780782\n",
            "\n",
            "Epoch [ 39 / 50 ] "
          ]
        },
        {
          "output_type": "stream",
          "name": "stderr",
          "text": [
            "100%|██████████| 26/26 [01:25<00:00,  3.28s/it]\n"
          ]
        },
        {
          "output_type": "stream",
          "name": "stdout",
          "text": [
            "train\n",
            "loss 3148.6309216195414 | acc 0.03263942307692308 | POD 0.7173371687836322 | FAR 0.8118011206812811\n",
            "validation\n",
            "loss 2928.400027614036 | acc 0.028898958333333332 | POD 0.7093003050257823 | FAR 0.8075045279053578\n",
            "\n",
            "Epoch [ 40 / 50 ] "
          ]
        },
        {
          "output_type": "stream",
          "name": "stderr",
          "text": [
            "100%|██████████| 26/26 [01:25<00:00,  3.28s/it]\n"
          ]
        },
        {
          "output_type": "stream",
          "name": "stdout",
          "text": [
            "train\n",
            "loss 3137.313037061577 | acc 0.03238565705128205 | POD 0.7184338720714661 | FAR 0.8107661285476393\n",
            "validation\n",
            "loss 2918.9521999830004 | acc 0.028670833333333333 | POD 0.7106453105852261 | FAR 0.8064048524792272\n",
            "\n",
            "Epoch [ 41 / 50 ] "
          ]
        },
        {
          "output_type": "stream",
          "name": "stderr",
          "text": [
            "100%|██████████| 26/26 [01:25<00:00,  3.29s/it]\n"
          ]
        },
        {
          "output_type": "stream",
          "name": "stdout",
          "text": [
            "train\n",
            "loss 3126.5951557282265 | acc 0.03215408653846154 | POD 0.7191341222465815 | FAR 0.8097561786069704\n",
            "validation\n",
            "loss 2910.0621352921958 | acc 0.02848125 | POD 0.7120379913720987 | FAR 0.8054468249096437\n",
            "\n",
            "Epoch [ 42 / 50 ] "
          ]
        },
        {
          "output_type": "stream",
          "name": "stderr",
          "text": [
            "100%|██████████| 26/26 [01:25<00:00,  3.28s/it]\n"
          ]
        },
        {
          "output_type": "stream",
          "name": "stdout",
          "text": [
            "train\n",
            "loss 3116.4149110147764 | acc 0.031936057692307694 | POD 0.7197518879201379 | FAR 0.8088636825420105\n",
            "validation\n",
            "loss 2901.6608575597256 | acc 0.0283 | POD 0.7130773860294363 | FAR 0.8045097523405313\n",
            "\n",
            "Epoch [ 43 / 50 ] "
          ]
        },
        {
          "output_type": "stream",
          "name": "stderr",
          "text": [
            "100%|██████████| 26/26 [01:25<00:00,  3.28s/it]\n"
          ]
        },
        {
          "output_type": "stream",
          "name": "stdout",
          "text": [
            "train\n",
            "loss 3106.714727884959 | acc 0.031716426282051284 | POD 0.7204727120529688 | FAR 0.8079394473073758\n",
            "validation\n",
            "loss 2893.685075284857 | acc 0.028153645833333334 | POD 0.7131710120850783 | FAR 0.8039361658387851\n",
            "\n",
            "Epoch [ 44 / 50 ] "
          ]
        },
        {
          "output_type": "stream",
          "name": "stderr",
          "text": [
            "100%|██████████| 26/26 [01:25<00:00,  3.29s/it]\n"
          ]
        },
        {
          "output_type": "stream",
          "name": "stdout",
          "text": [
            "train\n",
            "loss 3097.441952192646 | acc 0.03152259615384615 | POD 0.720929145719134 | FAR 0.8071345908710761\n",
            "validation\n",
            "loss 2886.0772054082927 | acc 0.027994791666666668 | POD 0.7138299655382252 | FAR 0.8032230270911367\n",
            "\n",
            "Epoch [ 45 / 50 ] "
          ]
        },
        {
          "output_type": "stream",
          "name": "stderr",
          "text": [
            "100%|██████████| 26/26 [01:25<00:00,  3.28s/it]\n"
          ]
        },
        {
          "output_type": "stream",
          "name": "stdout",
          "text": [
            "train\n",
            "loss 3088.549106186876 | acc 0.03134735576923077 | POD 0.7214560403884699 | FAR 0.8063408660167718\n",
            "validation\n",
            "loss 2878.785640351335 | acc 0.027844270833333334 | POD 0.7140879642204423 | FAR 0.8025756315777257\n",
            "\n",
            "Epoch [ 46 / 50 ] "
          ]
        },
        {
          "output_type": "stream",
          "name": "stderr",
          "text": [
            "100%|██████████| 26/26 [01:25<00:00,  3.28s/it]\n"
          ]
        },
        {
          "output_type": "stream",
          "name": "stdout",
          "text": [
            "train\n",
            "loss 3079.9938090778355 | acc 0.031170272435897435 | POD 0.7220573663185156 | FAR 0.8056044576781083\n",
            "validation\n",
            "loss 2871.765457093658 | acc 0.027717708333333334 | POD 0.7150229466458715 | FAR 0.8019576233107598\n",
            "\n",
            "Epoch [ 47 / 50 ] "
          ]
        },
        {
          "output_type": "stream",
          "name": "stderr",
          "text": [
            "100%|██████████| 26/26 [01:25<00:00,  3.28s/it]\n"
          ]
        },
        {
          "output_type": "stream",
          "name": "stdout",
          "text": [
            "train\n",
            "loss 3071.738684021438 | acc 0.031020272435897434 | POD 0.7228946101203761 | FAR 0.8048002040676949\n",
            "validation\n",
            "loss 2864.979504440338 | acc 0.027583333333333335 | POD 0.716069465808835 | FAR 0.8012705676502495\n",
            "\n",
            "Epoch [ 48 / 50 ] "
          ]
        },
        {
          "output_type": "stream",
          "name": "stderr",
          "text": [
            "100%|██████████| 26/26 [01:25<00:00,  3.28s/it]\n"
          ]
        },
        {
          "output_type": "stream",
          "name": "stdout",
          "text": [
            "train\n",
            "loss 3063.751390134118 | acc 0.030866826923076924 | POD 0.7236939614875542 | FAR 0.8039806604145192\n",
            "validation\n",
            "loss 2858.3997187614686 | acc 0.0274765625 | POD 0.7164948892055265 | FAR 0.8006195949851481\n",
            "\n",
            "Epoch [ 49 / 50 ] "
          ]
        },
        {
          "output_type": "stream",
          "name": "stderr",
          "text": [
            "100%|██████████| 26/26 [01:25<00:00,  3.28s/it]\n"
          ]
        },
        {
          "output_type": "stream",
          "name": "stdout",
          "text": [
            "train\n",
            "loss 3056.0046007295077 | acc 0.030715544871794873 | POD 0.7242553954298919 | FAR 0.8032659897050481\n",
            "validation\n",
            "loss 2852.0078753312305 | acc 0.027322916666666665 | POD 0.7169676065406518 | FAR 0.8002736797764579\n",
            "\n",
            "Epoch [ 50 / 50 ] "
          ]
        },
        {
          "output_type": "stream",
          "name": "stderr",
          "text": [
            "100%|██████████| 26/26 [01:25<00:00,  3.28s/it]\n"
          ]
        },
        {
          "output_type": "stream",
          "name": "stdout",
          "text": [
            "train\n",
            "loss 3048.4757424891704 | acc 0.03058653846153846 | POD 0.724751153351125 | FAR 0.8026235249518484\n",
            "validation\n",
            "loss 2845.794705004573 | acc 0.027224479166666666 | POD 0.7178654333275785 | FAR 0.7997639199400615\n",
            "\n",
            "50 50\n"
          ]
        },
        {
          "output_type": "display_data",
          "data": {
            "text/plain": [
              "<Figure size 640x480 with 1 Axes>"
            ],
            "image/png": "[encoded data removed]"
          },
          "metadata": {}
        },
        {
          "output_type": "display_data",
          "data": {
            "text/plain": [
              "<Figure size 640x480 with 1 Axes>"
            ],
            "image/png": "[encoded data removed]"
          },
          "metadata": {}
        },
        {
          "output_type": "display_data",
          "data": {
            "text/plain": [
              "<Figure size 640x480 with 1 Axes>"
            ],
            "image/png": "[encoded data removed]"
          },
          "metadata": {}
        },
        {
          "output_type": "display_data",
          "data": {
            "text/plain": [
              "<Figure size 640x480 with 1 Axes>"
            ],
            "image/png": "[encoded data removed]"
          },
          "metadata": {}
        }
      ]
    },
    {
      "cell_type": "code",
      "source": [
        "# x = torch.rand((32, 6, 1, 50, 50))\n",
        "# enc = Encoder()\n",
        "# h,c = enc(x)\n",
        "# # print(h.size(1)+c.size(1))\n",
        "# fus = Fusion(h.size(1))\n",
        "# h,c = fus([h], [c])\n",
        "# dec = Decoder()\n",
        "# print(\"size of x[:,-1,:,:,:]\", x[:,-1,:,:,:].size())\n",
        "# print(h.size())\n",
        "# out = dec(x[:,-1,:,:,:], h,c)\n",
        "# print(h.size())\n",
        "# print(c.size())\n",
        "# print(torch.cat([h,c], dim=1).size())"
      ],
      "metadata": {
        "id": "bGqnuSiHE2se"
      },
      "execution_count": 15,
      "outputs": []
    }
  ]
}